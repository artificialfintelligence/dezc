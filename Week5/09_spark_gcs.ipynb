{
 "cells": [
  {
   "cell_type": "markdown",
   "id": "ab8e9dc6-29f1-4c37-a3ea-b88d23b32ddb",
   "metadata": {},
   "source": [
    "# Connecting to Google Cloud Storage"
   ]
  },
  {
   "cell_type": "markdown",
   "id": "a815a4a5-60cd-4a61-96a0-805427d57a90",
   "metadata": {},
   "source": [
    "Before anything, I had to `sftp` my Google Cloud credentials from my local machine to the VM I'm using on Compute Engine for this module. Then, since it's a remote terminal, I can't use the OAuth route to authenticate myself. So I did this instead:\n",
    "``` bash\n",
    "gcloud auth activate-service-account --key-file $GC_CREDENTIALS\n",
    "```\n",
    "where I have set `GC_CREDENTIALS` to the full path to my credentials JSON file."
   ]
  },
  {
   "cell_type": "markdown",
   "id": "1344b072-bc4c-4c63-ad5c-30b933c63eb1",
   "metadata": {},
   "source": [
    "Now we are ready.  \n",
    "First we uploaded all the Parquet files to GCS with:\n",
    "``` bash\n",
    "gsutil -m cp -r data/pq/ gs://$GS_BUCKET_NAME/pq\n",
    "```\n",
    "where I have set `GS_BUCKET_NAME` to be the name of my bucket on Google Cloud Storage. Note: Because we have a large number of files, we used multi-threaded mode (`-m`)."
   ]
  },
  {
   "cell_type": "markdown",
   "id": "ecaf4db9-f5e9-46d4-9aaf-45c22efe85cd",
   "metadata": {},
   "source": [
    "Next, we need the [Cloud Storage connector for Hadoop](https://cloud.google.com/dataproc/docs/concepts/connectors/cloud-storage#non-clusters).\n",
    "``` bash\n",
    "mkdir lib && cd lib &&\n",
    "gsutil cp gs://hadoop-lib/gcs/gcs-connector-hadoop3-latest.jar gcs-connector-hadoop3-latest.jar\n",
    "```"
   ]
  },
  {
   "cell_type": "markdown",
   "id": "3a6f1ba3-2231-429a-a8d4-62b68dd44015",
   "metadata": {},
   "source": [
    "Okay, I lied before. _Now_ we are ready..."
   ]
  },
  {
   "cell_type": "code",
   "execution_count": 1,
   "id": "69e6e92c-1847-4517-8453-301309c37a01",
   "metadata": {
    "tags": []
   },
   "outputs": [],
   "source": [
    "import os\n",
    "import pyspark\n",
    "from pyspark.sql import SparkSession\n",
    "from pyspark.conf import SparkConf\n",
    "from pyspark.context import SparkContext"
   ]
  },
  {
   "cell_type": "code",
   "execution_count": 2,
   "id": "73a86da8-714d-4413-9346-e49e6a25c59b",
   "metadata": {
    "tags": []
   },
   "outputs": [],
   "source": [
    "credentials_location = os.environ.get(\"GC_CREDENTIALS\", \"/home/freddie/.gc/google_credentials.json\")\n",
    "\n",
    "# Configuring Spark\n",
    "conf = SparkConf() \\\n",
    "    .setMaster('local[*]') \\\n",
    "    .setAppName('NYTaxi') \\\n",
    "    .set(\"spark.jars\", \"./lib/gcs-connector-hadoop3-latest.jar\") \\\n",
    "    .set(\"spark.hadoop.google.cloud.auth.service.account.enable\", \"true\") \\\n",
    "    .set(\"spark.hadoop.google.cloud.auth.service.account.json.keyfile\", credentials_location)"
   ]
  },
  {
   "cell_type": "code",
   "execution_count": 3,
   "id": "70369c4b-4b69-4a63-880d-be9be0ab985a",
   "metadata": {
    "tags": []
   },
   "outputs": [
    {
     "name": "stderr",
     "output_type": "stream",
     "text": [
      "23/10/29 00:10:08 WARN NativeCodeLoader: Unable to load native-hadoop library for your platform... using builtin-java classes where applicable\n",
      "Setting default log level to \"WARN\".\n",
      "To adjust logging level use sc.setLogLevel(newLevel). For SparkR, use setLogLevel(newLevel).\n"
     ]
    }
   ],
   "source": [
    "sc = SparkContext(conf=conf)\n",
    "\n",
    "hadoop_conf = sc._jsc.hadoopConfiguration()\n",
    "\n",
    "hadoop_conf.set(\"fs.AbstractFileSystem.gs.impl\",  \"com.google.cloud.hadoop.fs.gcs.GoogleHadoopFS\")\n",
    "hadoop_conf.set(\"fs.gs.impl\", \"com.google.cloud.hadoop.fs.gcs.GoogleHadoopFileSystem\")\n",
    "hadoop_conf.set(\"fs.gs.auth.service.account.json.keyfile\", credentials_location)\n",
    "hadoop_conf.set(\"fs.gs.auth.service.account.enable\", \"true\")"
   ]
  },
  {
   "cell_type": "markdown",
   "id": "edab87f6-b8a5-4b51-8c4f-4dde7a1e73ad",
   "metadata": {},
   "source": [
    "All that is happening above is that we are telling Spark how to interpret file system (`fs`) strings that start with \"`gs`\" and what implementation (`impl`) to use and what credentials to use.  \n",
    "Now we can build a session as before:"
   ]
  },
  {
   "cell_type": "code",
   "execution_count": 4,
   "id": "23f07e5b-2733-46ec-b82b-4078a4248745",
   "metadata": {
    "tags": []
   },
   "outputs": [],
   "source": [
    "spark = SparkSession.builder \\\n",
    "    .config(conf=sc.getConf()) \\\n",
    "    .getOrCreate()"
   ]
  },
  {
   "cell_type": "code",
   "execution_count": 5,
   "id": "b1d581be-0bf0-4e41-b791-dab58a2090fa",
   "metadata": {
    "tags": []
   },
   "outputs": [
    {
     "name": "stderr",
     "output_type": "stream",
     "text": [
      "                                                                                \r"
     ]
    }
   ],
   "source": [
    "gcs_bucket_name = os.environ.get(\"GC_CREDENTIALS\", \"dezc-data-lake_brilliant-vent-400717\")\n",
    "df_green = spark.read.parquet(f\"gs://{gcs_bucket_name}/pq/green/*/*\")"
   ]
  },
  {
   "cell_type": "code",
   "execution_count": 6,
   "id": "b7915d13-a8fb-443c-a742-025f636e202a",
   "metadata": {
    "tags": []
   },
   "outputs": [
    {
     "name": "stderr",
     "output_type": "stream",
     "text": [
      "                                                                                \r"
     ]
    },
    {
     "data": {
      "text/plain": [
       "2304517"
      ]
     },
     "execution_count": 6,
     "metadata": {},
     "output_type": "execute_result"
    }
   ],
   "source": [
    "df_green.count()"
   ]
  },
  {
   "cell_type": "markdown",
   "id": "98fae6d7-f1e7-4287-826b-587b9ba36715",
   "metadata": {},
   "source": [
    "It worked!"
   ]
  }
 ],
 "metadata": {
  "kernelspec": {
   "display_name": "Python 3 (ipykernel)",
   "language": "python",
   "name": "python3"
  },
  "language_info": {
   "codemirror_mode": {
    "name": "ipython",
    "version": 3
   },
   "file_extension": ".py",
   "mimetype": "text/x-python",
   "name": "python",
   "nbconvert_exporter": "python",
   "pygments_lexer": "ipython3",
   "version": "3.11.5"
  }
 },
 "nbformat": 4,
 "nbformat_minor": 5
}
